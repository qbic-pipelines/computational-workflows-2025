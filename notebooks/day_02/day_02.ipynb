{
 "cells": [
  {
   "cell_type": "markdown",
   "metadata": {},
   "source": [
    "# Day 2\n",
    "\n",
    "Today, we will start using nf-core pipelines to find differentially abundant genes in our dataset. \n",
    "We are using data from the following paper: https://www.nature.com/articles/s41593-023-01350-3#Sec10"
   ]
  },
  {
   "cell_type": "markdown",
   "metadata": {
    "vscode": {
     "languageId": "plaintext"
    }
   },
   "source": [
    "1. Please take some time to read through the paper and understand their approach, hypotheses and goals."
   ]
  },
  {
   "cell_type": "markdown",
   "metadata": {
    "vscode": {
     "languageId": "plaintext"
    }
   },
   "source": [
    "What was the objective of the study?"
   ]
  },
  {
   "cell_type": "markdown",
   "metadata": {},
   "source": [
    "To investigate the transcriptomic effects of chronic opioid exposure and withdrawal in brain reward circuits, and how these are altered by the presence of chronic pain."
   ]
  },
  {
   "cell_type": "markdown",
   "metadata": {
    "vscode": {
     "languageId": "plaintext"
    }
   },
   "source": [
    "What do the conditions mean?"
   ]
  },
  {
   "cell_type": "markdown",
   "metadata": {},
   "source": [
    "oxy: 2 weeks dayly treatment with oxycodone after spared nerve injury or sham surgery\n",
    "\n",
    "\n",
    "sal: treatment with 0.9% saline after spared nerve injury or sham surgery"
   ]
  },
  {
   "cell_type": "markdown",
   "metadata": {},
   "source": [
    "What do the genotypes mean?"
   ]
  },
  {
   "cell_type": "markdown",
   "metadata": {},
   "source": [
    "SNI: spared nerve injury (surgery of left sciatic nerve: 1-2 mm sections of these nerves were removed) -> Chronical pain\n",
    "\n",
    "\n",
    "Sham: in sham controls the surgery was mimicked but the nerve was not hurt -> no chronical pain"
   ]
  },
  {
   "cell_type": "markdown",
   "metadata": {},
   "source": [
    "Imagine you are the bioinformatician in the group who conducted this study. They hand you the raw files and ask you to analyze them.\n",
    "\n",
    "What would you do?\n",
    "\n",
    "Which groups would you compare to each other?\n",
    "\n",
    "Please also mention which outcome you would expect to see from each comparison."
   ]
  },
  {
   "cell_type": "markdown",
   "metadata": {},
   "source": [
    "What would you do?\n",
    "\n",
    "Since we get the raw data, we first hav to do a Quality Control (FastQC) and check for the reads quality of the RNAseq runs. We maybe have to trimm reads and correct for adapter sequences.\n",
    "Then we align the reads to the current mouse genome (HISAT2) and count the reads for each annotated gene in the reference genome to get a counts matrix.\n",
    "To get differnetially expressed genes within conditions DESeq2 could be performed with also already takes care of normalization and therefore has to be performed an the raw counts."
   ]
  },
  {
   "cell_type": "markdown",
   "metadata": {},
   "source": [
    "Which groups would you compare to each other? Please also mention which outcome you would expect to see from each comparison.\n",
    "\n",
    "1. Find DEGs for treatemnt and Genotype against controls, to find specific effects for oxy and specific effects for SNI.\n",
    "-> This means 2 Comparisons:\n",
    "- SNI-oxy VS SNI-sal\n",
    "- SNI-sal VS Sham-sal\n",
    "2. Find DEG for SNI-oxy with Sham-sal for specific effects for oxy in a SNI setting on withdrawal, compared to Control (sham-sal = control in genotype and treatment)\n",
    "3. Compare Overlapps to find DEGs which are specific for the SNI-oxy compared to the Sham-sal without effects that also occure only due to oxy or only due to the SNI."
   ]
  },
  {
   "cell_type": "markdown",
   "metadata": {},
   "source": [
    "Your group gave you a very suboptimal excel sheet (conditions_runs_oxy_project.xlsx) to get the information you need for each run they uploaded to the SRA.<br>\n",
    "So, instead of directly diving into downloading the data and starting the analysis, you first need to sort the lazy table.<br>\n",
    "Use Python and Pandas to get the table into a more sensible order.<br>\n",
    "Then, perform some overview analysis and plot the results\n",
    "1. How many samples do you have per condition?\n",
    "2. How many samples do you have per genotype?\n",
    "3. How often do you have each condition per genotype?"
   ]
  },
  {
   "cell_type": "code",
   "execution_count": 32,
   "metadata": {},
   "outputs": [
    {
     "name": "stdout",
     "output_type": "stream",
     "text": [
      "Current working directory: /home/chrissi/BioPrak/computational-workflows-2025/notebooks/day_02\n",
      "Table cleaned and saved as cleaned_table.xlsx\n",
      "            Patient  RNA-seq  DNA-seq  condition: Sal  Condition: Oxy  \\\n",
      "Run                                                                     \n",
      "SRR23195505       ?     True    False            True           False   \n",
      "SRR23195506       ?     True    False           False            True   \n",
      "SRR23195507       ?     True    False            True           False   \n",
      "SRR23195508       ?     True    False           False            True   \n",
      "SRR23195509       ?     True    False           False            True   \n",
      "\n",
      "             Genotype: SNI  Genotype: Sham  \n",
      "Run                                         \n",
      "SRR23195505           True           False  \n",
      "SRR23195506          False            True  \n",
      "SRR23195507          False            True  \n",
      "SRR23195508           True           False  \n",
      "SRR23195509           True           False  \n"
     ]
    },
    {
     "name": "stderr",
     "output_type": "stream",
     "text": [
      "/tmp/ipykernel_13290/266857688.py:9: FutureWarning: Downcasting object dtype arrays on .fillna, .ffill, .bfill is deprecated and will change in a future version. Call result.infer_objects(copy=False) instead. To opt-in to the future behavior, set `pd.set_option('future.no_silent_downcasting', True)`\n",
      "  df = df.fillna(False)\n",
      "/tmp/ipykernel_13290/266857688.py:11: FutureWarning: Downcasting behavior in `replace` is deprecated and will be removed in a future version. To retain the old behavior, explicitly call `result.infer_objects(copy=False)`. To opt-in to the future behavior, set `pd.set_option('future.no_silent_downcasting', True)`\n",
      "  df =df.replace(\"x\", True)\n"
     ]
    }
   ],
   "source": [
    "import pandas as pd\n",
    "import os\n",
    "\n",
    "# Paths\n",
    "print(\"Current working directory:\", os.getcwd())\n",
    "\n",
    "# Read data\n",
    "df = pd.read_excel(\"conditions_runs_oxy_project.xlsx\", index_col=\"Run\")\n",
    "df = df.fillna(False)\n",
    "df =df.replace(\"X\", True)\n",
    "df =df.replace(\"x\", True)\n",
    "\n",
    "# Binary Conditions\n",
    "conditions = [\"SNI\", \"Sham\", \"oxy\", \"sal\"]\n",
    "\n",
    "# Save\n",
    "df.to_excel(\"results/cleaned_table.xlsx\", index=False)\n",
    "\n",
    "print(\"Table cleaned and saved as cleaned_table.xlsx\")\n",
    "print(df.head())"
   ]
  },
  {
   "cell_type": "code",
   "execution_count": null,
   "metadata": {},
   "outputs": [
    {
     "name": "stdout",
     "output_type": "stream",
     "text": [
      "            Patient  RNA-seq  DNA-seq Condition Genotype\n",
      "Run                                                     \n",
      "SRR23195505       ?     True    False       Sal      SNI\n",
      "SRR23195506       ?     True    False       Oxy     Sham\n",
      "SRR23195507       ?     True    False       Sal     Sham\n",
      "SRR23195508       ?     True    False       Oxy      SNI\n",
      "SRR23195509       ?     True    False       Oxy      SNI\n"
     ]
    }
   ],
   "source": [
    "import numpy as np\n",
    "\n",
    "# Samples per condition/ genotype\n",
    "conditions = [\"Sal\", \"Oxy\"]\n",
    "genotypes  = [\"SNI\", \"Sham\"]\n",
    "df[\"Condition\"] = np.select(df[[\"condition: Sal\", \"Condition: Oxy\"]].to_numpy().T, conditions, default=None)\n",
    "df[\"Genotype\"]  = np.select(df[[\"Genotype: SNI\", \"Genotype: Sham\"]].to_numpy().T, genotypes, default=None)\n",
    "df = df.drop(['condition: Sal', 'Condition: Oxy', 'Genotype: SNI', 'Genotype: Sham'], axis=1)\n",
    "\n",
    "print(df.head())"
   ]
  },
  {
   "cell_type": "markdown",
   "metadata": {},
   "source": [
    "They were so kind to also provide you with the information of the number of bases per run, so that you can know how much space the data will take on your Cluster.<br>\n",
    "Add a new column to your fancy table with this information (base_counts.csv) and sort your dataframe according to this information and the condition.\n",
    "\n",
    "Then select the 2 smallest runs from your dataset and download them from SRA (maybe an nf-core pipeline can help here?...)"
   ]
  },
  {
   "cell_type": "code",
   "execution_count": 35,
   "metadata": {},
   "outputs": [
    {
     "name": "stdout",
     "output_type": "stream",
     "text": [
      "            Patient  RNA-seq  DNA-seq Condition Genotype\n",
      "Run                                                     \n",
      "SRR23195508       ?     True    False       Oxy      SNI\n",
      "SRR23195509       ?     True    False       Oxy      SNI\n",
      "SRR23195516       ?     True    False       Oxy      SNI\n",
      "SRR23195517       ?     True    False       Oxy      SNI\n",
      "SRR23195506       ?     True    False       Oxy     Sham\n"
     ]
    }
   ],
   "source": [
    "# Sort\n",
    "df = df.sort_values(by=['Condition', 'Genotype'])\n",
    "\n",
    "print(df.head())"
   ]
  },
  {
   "cell_type": "code",
   "execution_count": null,
   "metadata": {},
   "outputs": [
    {
     "name": "stdout",
     "output_type": "stream",
     "text": [
      "                  Bases\n",
      "Run                    \n",
      "SRR23195505  6922564500\n",
      "SRR23195506  7859530800\n",
      "SRR23195507  8063298900\n",
      "SRR23195508  6927786900\n",
      "SRR23195509  7003550100\n",
      "SRR23195510  7377388500\n",
      "SRR23195511  6456390900\n",
      "SRR23195512  7462857900\n",
      "SRR23195513  8099181600\n",
      "SRR23195514  7226808600\n",
      "SRR23195515  8169101700\n",
      "SRR23195516  6203117700\n",
      "SRR23195517  6863840400\n",
      "SRR23195518  7908500400\n",
      "SRR23195519  6996050100\n",
      "SRR23195520  7858146000\n",
      "            Patient  RNA-seq  DNA-seq Condition Genotype       Bases\n",
      "Run                                                                 \n",
      "SRR23195508       ?     True    False       Oxy      SNI  6927786900\n",
      "SRR23195509       ?     True    False       Oxy      SNI  7003550100\n",
      "SRR23195516       ?     True    False       Oxy      SNI  6203117700\n",
      "SRR23195517       ?     True    False       Oxy      SNI  6863840400\n",
      "SRR23195506       ?     True    False       Oxy     Sham  7859530800\n"
     ]
    }
   ],
   "source": [
    "# Add Bases to dataframe\n",
    "df_base = pd.read_csv(\"base_counts.csv\", index_col=\"Run\")\n",
    "print(df_base)\n",
    "\n",
    "df[\"Bases\"] = df_base.Bases\n",
    "\n",
    "print(df.head())"
   ]
  },
  {
   "cell_type": "code",
   "execution_count": 38,
   "metadata": {},
   "outputs": [
    {
     "name": "stdout",
     "output_type": "stream",
     "text": [
      "Table cleaned and saved as cleaned_table.xlsx to results folder\n"
     ]
    }
   ],
   "source": [
    "# Save\n",
    "df.to_excel(\"results/cleaned_table.xlsx\", index=False)\n",
    "\n",
    "print(\"Table cleaned and saved as cleaned_table.xlsx to results folder\")"
   ]
  },
  {
   "cell_type": "code",
   "execution_count": null,
   "metadata": {},
   "outputs": [
    {
     "name": "stdout",
     "output_type": "stream",
     "text": [
      "Genotype\n",
      "SNI     8\n",
      "Sham    8\n",
      "Name: count, dtype: int64\n",
      "Condition\n",
      "Oxy    8\n",
      "Sal    8\n",
      "Name: count, dtype: int64\n",
      "Genotype  Condition\n",
      "SNI       Oxy          4\n",
      "          Sal          4\n",
      "Sham      Oxy          4\n",
      "          Sal          4\n",
      "dtype: int64\n"
     ]
    }
   ],
   "source": [
    "# Number of samples per condition/ genotype\n",
    "genotype_counts = df[\"Genotype\"].value_counts()\n",
    "print(genotype_counts)\n",
    "\n",
    "condition_counts = df[\"Condition\"].value_counts()\n",
    "print(condition_counts)\n",
    "\n",
    "combination_counts = df.groupby([\"Genotype\", \"Condition\"]).size()\n",
    "print(combination_counts)"
   ]
  },
  {
   "cell_type": "code",
   "execution_count": 39,
   "metadata": {},
   "outputs": [
    {
     "name": "stdout",
     "output_type": "stream",
     "text": [
      "            Patient  RNA-seq  DNA-seq Condition Genotype       Bases\n",
      "Run                                                                 \n",
      "SRR23195516       ?     True    False       Oxy      SNI  6203117700\n",
      "SRR23195511       ?     True    False       Oxy     Sham  6456390900\n"
     ]
    }
   ],
   "source": [
    "lowest_two = df.nsmallest(2, \"Bases\")\n",
    "\n",
    "print(lowest_two)"
   ]
  },
  {
   "cell_type": "code",
   "execution_count": null,
   "metadata": {},
   "outputs": [],
   "source": [
    "# Fetch data from SRA\n",
    "\n",
    "!nextflow run nf-core/fetchngs --input /home/chrissi/BioPrak/computational-workflows-2025/notebooks/day_02/ids.csv -profile docker --outdir /home/chrissi/BioPrak/computational-workflows-2025/notebooks/day_02/SRR_data_fetch --max_memory \"4GB\"\n",
    "\n",
    "# get paired end reads\n",
    "# pipeline_info -> execusion_report: shows more info on the pocess that was run\n",
    "# sample sheet -> info on the samples that were downloaded\n",
    "\n",
    "# Since fetching could not be performed in the time given, we shared the data manually via an USB-Stick\n",
    "# I put it in the SRR_data_fetch folder."
   ]
  },
  {
   "cell_type": "markdown",
   "metadata": {},
   "source": [
    "While your files are downloading, get back to the paper and explain how you would try to reproduce the analysis.<br>\n",
    "When you are done with this shout, so we can discuss the different ideas."
   ]
  },
  {
   "cell_type": "markdown",
   "metadata": {},
   "source": [
    "Since we get the raw files, we have to do a quality control and preprocess the data before the analysis, ideally the same as in the paper.\n",
    "However in the paper any prepocessing is described and also used tools miss the used version, etc.\n",
    "\n",
    "This is why we suggest to use the nf-core pipelines to make the analysis reproducible."
   ]
  }
 ],
 "metadata": {
  "kernelspec": {
   "display_name": "workflows",
   "language": "python",
   "name": "python3"
  },
  "language_info": {
   "codemirror_mode": {
    "name": "ipython",
    "version": 3
   },
   "file_extension": ".py",
   "mimetype": "text/x-python",
   "name": "python",
   "nbconvert_exporter": "python",
   "pygments_lexer": "ipython3",
   "version": "3.13.7"
  }
 },
 "nbformat": 4,
 "nbformat_minor": 2
}
